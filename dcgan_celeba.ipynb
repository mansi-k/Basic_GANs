{
  "nbformat": 4,
  "nbformat_minor": 0,
  "metadata": {
    "colab": {
      "name": "dcgan_celeba.ipynb",
      "provenance": [],
      "collapsed_sections": []
    },
    "kernelspec": {
      "name": "python3",
      "display_name": "Python 3"
    },
    "language_info": {
      "name": "python"
    },
    "accelerator": "GPU"
  },
  "cells": [
    {
      "cell_type": "markdown",
      "metadata": {
        "id": "24iHskS0oXvZ"
      },
      "source": [
        "# Training Deep Convolutional GAN on CelebA"
      ]
    },
    {
      "cell_type": "code",
      "metadata": {
        "id": "K5HWJXMp1L0W",
        "colab": {
          "base_uri": "https://localhost:8080/"
        },
        "outputId": "5cf0826e-fae0-4c46-eaaa-ca44b209cf60"
      },
      "source": [
        "from google.colab import drive\n",
        "drive.mount('/content/drive')\n",
        "%cd /content/drive/MyDrive/smai/\n",
        "!pwd"
      ],
      "execution_count": null,
      "outputs": [
        {
          "output_type": "stream",
          "text": [
            "Mounted at /content/drive\n",
            "/content/drive/.shortcut-targets-by-id/1AZEZasE2jESUQGKAw181X7smaAhWYk6d/smai\n",
            "/content/drive/.shortcut-targets-by-id/1AZEZasE2jESUQGKAw181X7smaAhWYk6d/smai\n"
          ],
          "name": "stdout"
        }
      ]
    },
    {
      "cell_type": "code",
      "metadata": {
        "colab": {
          "base_uri": "https://localhost:8080/"
        },
        "id": "ubhZm9fFEppQ",
        "outputId": "8f11ef12-cd54-47a6-8bce-9856160f55a9"
      },
      "source": [
        "!python dcgan_celeba.py --save_ckpt 'celeba_' --load_ckpt 'celeba_'"
      ],
      "execution_count": null,
      "outputs": [
        {
          "output_type": "stream",
          "text": [
            "Namespace(b1=0.5, b2=0.999, batch_size=64, channels=3, img_size=64, latent_dim=100, load_ckpt='celeba_', lr=0.0002, n_cpu=8, n_epochs=200, save_ckpt='celeba_')\n",
            "[Epoch 13/200] [Batch 813/814] [D loss: 0.140065] [G loss: 2.458156]\n",
            "[Epoch 14/200] [Batch 813/814] [D loss: 0.287379] [G loss: 3.999237]\n",
            "[Epoch 15/200] [Batch 813/814] [D loss: 0.182509] [G loss: 2.152509]\n",
            "[Epoch 16/200] [Batch 813/814] [D loss: 0.131474] [G loss: 3.047592]\n",
            "[Epoch 17/200] [Batch 813/814] [D loss: 0.183419] [G loss: 2.216645]\n",
            "[Epoch 18/200] [Batch 813/814] [D loss: 0.234865] [G loss: 4.373056]\n",
            "[Epoch 19/200] [Batch 813/814] [D loss: 0.191448] [G loss: 3.249492]\n",
            "[Epoch 20/200] [Batch 813/814] [D loss: 0.109893] [G loss: 2.455588]\n",
            "[Epoch 21/200] [Batch 813/814] [D loss: 0.043078] [G loss: 4.211532]\n",
            "[Epoch 22/200] [Batch 813/814] [D loss: 0.176839] [G loss: 1.771375]\n",
            "[Epoch 23/200] [Batch 813/814] [D loss: 0.251683] [G loss: 2.569284]\n",
            "[Epoch 24/200] [Batch 813/814] [D loss: 0.060449] [G loss: 3.834044]\n",
            "[Epoch 25/200] [Batch 813/814] [D loss: 1.012552] [G loss: 0.269611]\n",
            "[Epoch 26/200] [Batch 813/814] [D loss: 0.115554] [G loss: 2.929210]\n",
            "[Epoch 27/200] [Batch 813/814] [D loss: 0.132458] [G loss: 5.028550]\n"
          ],
          "name": "stdout"
        }
      ]
    }
  ]
}