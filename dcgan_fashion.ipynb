{
  "nbformat": 4,
  "nbformat_minor": 0,
  "metadata": {
    "colab": {
      "name": "part2.ipynb",
      "provenance": []
    },
    "kernelspec": {
      "name": "python3",
      "display_name": "Python 3"
    },
    "language_info": {
      "name": "python"
    }
  },
  "cells": [
    {
      "cell_type": "markdown",
      "metadata": {
        "id": "Pqbdw9K25q3x"
      },
      "source": [
        "# Training DCGAN on FashionMNIST "
      ]
    },
    {
      "cell_type": "code",
      "metadata": {
        "colab": {
          "base_uri": "https://localhost:8080/"
        },
        "id": "-ClkYIP11O9i",
        "outputId": "ef75a20e-ff3a-4140-90aa-c5eea0aac61a"
      },
      "source": [
        "from google.colab import drive\n",
        "drive.mount('/content/drive')\n",
        "%cd /content/drive/MyDrive/smaiproject_2/\n",
        "!pwd"
      ],
      "execution_count": null,
      "outputs": [
        {
          "output_type": "stream",
          "text": [
            "Mounted at /content/drive\n",
            "/content/drive/MyDrive/smaiproject_2\n",
            "/content/drive/MyDrive/smaiproject_2\n"
          ],
          "name": "stdout"
        }
      ]
    },
    {
      "cell_type": "code",
      "metadata": {
        "colab": {
          "base_uri": "https://localhost:8080/"
        },
        "id": "xBG0ubJ11T1B",
        "outputId": "7c361feb-41a4-4b29-ce76-4c965e1b38d4"
      },
      "source": [
        "!python dcgan_fashion.py --save_ckpt 'fashionmnist' --load_ckpt 'fashionmnist'"
      ],
      "execution_count": null,
      "outputs": [
        {
          "output_type": "stream",
          "text": [
            "Namespace(b1=0.5, b2=0.999, batch_size=64, channels=1, img_size=32, latent_dim=100, load_ckpt=None, lr=0.0002, n_cpu=8, n_epochs=500, save_ckpt='fashionmnist')\n",
            "[Epoch 0/500] [Batch 937/938] [D loss: 0.631490] [G loss: 0.752767]\n",
            "[Epoch 1/500] [Batch 937/938] [D loss: 0.634290] [G loss: 0.920704]\n",
            "[Epoch 2/500] [Batch 937/938] [D loss: 0.635143] [G loss: 0.898347]\n",
            "[Epoch 3/500] [Batch 937/938] [D loss: 0.654299] [G loss: 1.137100]\n",
            "[Epoch 4/500] [Batch 937/938] [D loss: 0.686070] [G loss: 0.770861]\n",
            "[Epoch 5/500] [Batch 937/938] [D loss: 0.574353] [G loss: 0.783707]\n",
            "[Epoch 6/500] [Batch 937/938] [D loss: 0.551008] [G loss: 0.736620]\n",
            "[Epoch 7/500] [Batch 937/938] [D loss: 0.615054] [G loss: 1.128056]\n",
            "[Epoch 8/500] [Batch 937/938] [D loss: 0.739657] [G loss: 0.928596]\n",
            "[Epoch 9/500] [Batch 937/938] [D loss: 0.589234] [G loss: 1.261862]\n",
            "[Epoch 10/500] [Batch 937/938] [D loss: 0.423601] [G loss: 1.112820]\n",
            "[Epoch 11/500] [Batch 937/938] [D loss: 0.572396] [G loss: 0.898233]\n",
            "[Epoch 12/500] [Batch 937/938] [D loss: 0.534760] [G loss: 1.015875]\n",
            "[Epoch 13/500] [Batch 937/938] [D loss: 0.730625] [G loss: 1.284362]\n",
            "[Epoch 14/500] [Batch 937/938] [D loss: 0.818191] [G loss: 0.734264]\n",
            "[Epoch 15/500] [Batch 937/938] [D loss: 0.938742] [G loss: 1.041765]\n",
            "[Epoch 16/500] [Batch 937/938] [D loss: 0.349034] [G loss: 2.496147]\n",
            "[Epoch 17/500] [Batch 937/938] [D loss: 0.730854] [G loss: 0.832935]\n",
            "[Epoch 18/500] [Batch 937/938] [D loss: 0.575421] [G loss: 1.363059]\n",
            "[Epoch 19/500] [Batch 937/938] [D loss: 0.425335] [G loss: 0.861337]\n",
            "[Epoch 20/500] [Batch 937/938] [D loss: 0.543920] [G loss: 0.839700]\n",
            "[Epoch 21/500] [Batch 937/938] [D loss: 0.339453] [G loss: 1.229104]\n",
            "[Epoch 22/500] [Batch 937/938] [D loss: 0.439329] [G loss: 1.369818]\n"
          ],
          "name": "stdout"
        }
      ]
    }
  ]
}